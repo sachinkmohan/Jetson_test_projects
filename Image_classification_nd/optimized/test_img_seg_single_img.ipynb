{
 "cells": [
  {
   "cell_type": "code",
   "execution_count": 1,
   "metadata": {},
   "outputs": [],
   "source": [
    "import model_inference as mi\n",
    "import engine_ops as eop\n",
    "#import preprosses as pre\n",
    "from os.path import isfile, join\n",
    "import os\n",
    "from tensorflow.keras.applications.resnet50 import preprocess_input, decode_predictions\n",
    "import time\n",
    "import numpy as np\n",
    "import cv2 as cv"
   ]
  },
  {
   "cell_type": "code",
   "execution_count": 2,
   "metadata": {},
   "outputs": [],
   "source": [
    "engine_path = './models/plan/seg_model_unet_40_ep.plan'\n",
    "batch_size1 = 1\n",
    "n = 10"
   ]
  },
  {
   "cell_type": "code",
   "execution_count": 5,
   "metadata": {},
   "outputs": [
    {
     "name": "stdout",
     "output_type": "stream",
     "text": [
      "./models/plan/seg_model_unet_40_ep.plan\n",
      "engine.get_binding_shape(0)   (1, 320, 480, 3)\n",
      "engine.get_binding_shape(0)   (1, 320, 480, 1)\n",
      "./models/plan/seg_model_unet_40_ep.plan\n",
      "engine.get_binding_shape(0)   (1, 320, 480, 3)\n",
      "engine.get_binding_shape(0)   (1, 320, 480, 1)\n",
      "./models/plan/seg_model_unet_40_ep.plan\n",
      "engine.get_binding_shape(0)   (1, 320, 480, 3)\n",
      "engine.get_binding_shape(0)   (1, 320, 480, 1)\n",
      "./models/plan/seg_model_unet_40_ep.plan\n",
      "engine.get_binding_shape(0)   (1, 320, 480, 3)\n",
      "engine.get_binding_shape(0)   (1, 320, 480, 1)\n",
      "./models/plan/seg_model_unet_40_ep.plan\n",
      "engine.get_binding_shape(0)   (1, 320, 480, 3)\n",
      "engine.get_binding_shape(0)   (1, 320, 480, 1)\n",
      "./models/plan/seg_model_unet_40_ep.plan\n",
      "engine.get_binding_shape(0)   (1, 320, 480, 3)\n",
      "engine.get_binding_shape(0)   (1, 320, 480, 1)\n",
      "./models/plan/seg_model_unet_40_ep.plan\n",
      "engine.get_binding_shape(0)   (1, 320, 480, 3)\n",
      "engine.get_binding_shape(0)   (1, 320, 480, 1)\n",
      "./models/plan/seg_model_unet_40_ep.plan\n",
      "engine.get_binding_shape(0)   (1, 320, 480, 3)\n",
      "engine.get_binding_shape(0)   (1, 320, 480, 1)\n",
      "./models/plan/seg_model_unet_40_ep.plan\n",
      "engine.get_binding_shape(0)   (1, 320, 480, 3)\n",
      "engine.get_binding_shape(0)   (1, 320, 480, 1)\n",
      "./models/plan/seg_model_unet_40_ep.plan\n",
      "engine.get_binding_shape(0)   (1, 320, 480, 3)\n",
      "engine.get_binding_shape(0)   (1, 320, 480, 1)\n",
      "Average runtime: 0.194219 seconds\n"
     ]
    }
   ],
   "source": [
    "start = time.time()\n",
    "for i in range(n):\n",
    "    #engine_path = join(os.getcwd(), \"/models/plan/ssd7_keras_1.plan\")\n",
    "    img_inf = cv.imread('0001TP_009060.png')\n",
    "    image_resized2 = cv.resize(img_inf, (480, 320))\n",
    "    frame2 = np.expand_dims(image_resized2, axis=0)\n",
    "    out = mi.inference(engine_path,  frame2, batch_size1)\n",
    "end = time.time()\n",
    "print('Average runtime: %f seconds' % (float(end - start) / n))"
   ]
  }
 ],
 "metadata": {
  "kernelspec": {
   "display_name": "Python 3",
   "language": "python",
   "name": "python3"
  },
  "language_info": {
   "codemirror_mode": {
    "name": "ipython",
    "version": 3
   },
   "file_extension": ".py",
   "mimetype": "text/x-python",
   "name": "python",
   "nbconvert_exporter": "python",
   "pygments_lexer": "ipython3",
   "version": "3.6.13"
  }
 },
 "nbformat": 4,
 "nbformat_minor": 4
}
